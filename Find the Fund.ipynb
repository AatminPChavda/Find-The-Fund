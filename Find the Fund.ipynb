{
 "cells": [
  {
   "cell_type": "markdown",
   "metadata": {},
   "source": [
    "## Importing Libraries"
   ]
  },
  {
   "cell_type": "code",
   "execution_count": 1,
   "metadata": {},
   "outputs": [],
   "source": [
    "import pandas as pd\n",
    "import numpy as np\n",
    "import seaborn as sns\n",
    "import matplotlib.pyplot as plt\n",
    "%matplotlib inline\n",
    "from sklearn import metrics\n",
    "from sklearn.model_selection import train_test_split, cross_val_score\n",
    "from sklearn.metrics import accuracy_score, roc_auc_score, roc_curve\n",
    "from sklearn import datasets\n",
    "from sklearn import preprocessing \n",
    "label_encoder = preprocessing.LabelEncoder() \n",
    "from sklearn.ensemble import GradientBoostingClassifier\n",
    "\n",
    "import warnings\n",
    "warnings.filterwarnings(\"ignore\", category=DeprecationWarning) "
   ]
  },
  {
   "cell_type": "markdown",
   "metadata": {},
   "source": [
    "## Loading Datasets for training and testing"
   ]
  },
  {
   "cell_type": "code",
   "execution_count": 2,
   "metadata": {
    "scrolled": true
   },
   "outputs": [
    {
     "name": "stderr",
     "output_type": "stream",
     "text": [
      "/home/aatmin/anaconda3/lib/python3.7/site-packages/IPython/core/interactiveshell.py:3058: DtypeWarning: Columns (10,11,14,16,17,20,21) have mixed types. Specify dtype option on import or set low_memory=False.\n",
      "  interactivity=interactivity, compiler=compiler, result=result)\n"
     ]
    }
   ],
   "source": [
    "dataset = pd.read_csv('./train.csv')\n",
    "dtest=pd.read_csv('./test.csv')"
   ]
  },
  {
   "cell_type": "markdown",
   "metadata": {},
   "source": [
    "## Viewing first 5 lines of datasets  "
   ]
  },
  {
   "cell_type": "code",
   "execution_count": 3,
   "metadata": {},
   "outputs": [
    {
     "data": {
      "text/html": [
       "<div>\n",
       "<style scoped>\n",
       "    .dataframe tbody tr th:only-of-type {\n",
       "        vertical-align: middle;\n",
       "    }\n",
       "\n",
       "    .dataframe tbody tr th {\n",
       "        vertical-align: top;\n",
       "    }\n",
       "\n",
       "    .dataframe thead th {\n",
       "        text-align: right;\n",
       "    }\n",
       "</style>\n",
       "<table border=\"1\" class=\"dataframe\">\n",
       "  <thead>\n",
       "    <tr style=\"text-align: right;\">\n",
       "      <th></th>\n",
       "      <th>ID</th>\n",
       "      <th>comp_name</th>\n",
       "      <th>website</th>\n",
       "      <th>op_status</th>\n",
       "      <th>domain</th>\n",
       "      <th>founded_on</th>\n",
       "      <th>hq_country_code</th>\n",
       "      <th>hq_state_code</th>\n",
       "      <th>hq_region</th>\n",
       "      <th>hq_city</th>\n",
       "      <th>...</th>\n",
       "      <th>last_funding_utc</th>\n",
       "      <th>successful_investment</th>\n",
       "      <th>Unnamed: 19</th>\n",
       "      <th>Unnamed: 20</th>\n",
       "      <th>Unnamed: 21</th>\n",
       "      <th>Unnamed: 22</th>\n",
       "      <th>Unnamed: 23</th>\n",
       "      <th>Unnamed: 24</th>\n",
       "      <th>Unnamed: 25</th>\n",
       "      <th>Unnamed: 26</th>\n",
       "    </tr>\n",
       "  </thead>\n",
       "  <tbody>\n",
       "    <tr>\n",
       "      <td>0</td>\n",
       "      <td>0</td>\n",
       "      <td>Nanotecture</td>\n",
       "      <td>http://www.nanotecture.co.uk</td>\n",
       "      <td>closed</td>\n",
       "      <td>Nanotechnology</td>\n",
       "      <td>NaN</td>\n",
       "      <td>GBR</td>\n",
       "      <td>M4</td>\n",
       "      <td>London</td>\n",
       "      <td>Southampton</td>\n",
       "      <td>...</td>\n",
       "      <td>12907</td>\n",
       "      <td>0</td>\n",
       "      <td>NaN</td>\n",
       "      <td>NaN</td>\n",
       "      <td>NaN</td>\n",
       "      <td>NaN</td>\n",
       "      <td>NaN</td>\n",
       "      <td>NaN</td>\n",
       "      <td>NaN</td>\n",
       "      <td>NaN</td>\n",
       "    </tr>\n",
       "    <tr>\n",
       "      <td>1</td>\n",
       "      <td>1</td>\n",
       "      <td>Sybari</td>\n",
       "      <td>http://www.sybari.com</td>\n",
       "      <td>acquired</td>\n",
       "      <td>Email|Security|Software</td>\n",
       "      <td>1995-01-01</td>\n",
       "      <td>USA</td>\n",
       "      <td>NY</td>\n",
       "      <td>Long Island</td>\n",
       "      <td>East Northport</td>\n",
       "      <td>...</td>\n",
       "      <td>11411</td>\n",
       "      <td>1</td>\n",
       "      <td>NaN</td>\n",
       "      <td>NaN</td>\n",
       "      <td>NaN</td>\n",
       "      <td>NaN</td>\n",
       "      <td>NaN</td>\n",
       "      <td>NaN</td>\n",
       "      <td>NaN</td>\n",
       "      <td>NaN</td>\n",
       "    </tr>\n",
       "    <tr>\n",
       "      <td>2</td>\n",
       "      <td>2</td>\n",
       "      <td>Futurederm</td>\n",
       "      <td>http://www.futurederm.com</td>\n",
       "      <td>operating</td>\n",
       "      <td>Beauty|Cosmetics|E-Commerce|Social Media</td>\n",
       "      <td>2009-06-07</td>\n",
       "      <td>USA</td>\n",
       "      <td>PA</td>\n",
       "      <td>Pittsburgh</td>\n",
       "      <td>Pittsburgh</td>\n",
       "      <td>...</td>\n",
       "      <td>16217</td>\n",
       "      <td>0</td>\n",
       "      <td>NaN</td>\n",
       "      <td>NaN</td>\n",
       "      <td>NaN</td>\n",
       "      <td>NaN</td>\n",
       "      <td>NaN</td>\n",
       "      <td>NaN</td>\n",
       "      <td>NaN</td>\n",
       "      <td>NaN</td>\n",
       "    </tr>\n",
       "    <tr>\n",
       "      <td>3</td>\n",
       "      <td>3</td>\n",
       "      <td>Mercora</td>\n",
       "      <td>http://mercora.com</td>\n",
       "      <td>closed</td>\n",
       "      <td>Curated Web</td>\n",
       "      <td>NaN</td>\n",
       "      <td>USA</td>\n",
       "      <td>CA</td>\n",
       "      <td>SF Bay Area</td>\n",
       "      <td>Sunnyvale</td>\n",
       "      <td>...</td>\n",
       "      <td>12784</td>\n",
       "      <td>0</td>\n",
       "      <td>NaN</td>\n",
       "      <td>NaN</td>\n",
       "      <td>NaN</td>\n",
       "      <td>NaN</td>\n",
       "      <td>NaN</td>\n",
       "      <td>NaN</td>\n",
       "      <td>NaN</td>\n",
       "      <td>NaN</td>\n",
       "    </tr>\n",
       "    <tr>\n",
       "      <td>4</td>\n",
       "      <td>4</td>\n",
       "      <td>Datos IO</td>\n",
       "      <td>http://www.datos.io</td>\n",
       "      <td>operating</td>\n",
       "      <td>Big Data|Cloud Computing|Databases|Enterprise ...</td>\n",
       "      <td>2014-06-01</td>\n",
       "      <td>USA</td>\n",
       "      <td>CA</td>\n",
       "      <td>SF Bay Area</td>\n",
       "      <td>San Jose</td>\n",
       "      <td>...</td>\n",
       "      <td>16693</td>\n",
       "      <td>0</td>\n",
       "      <td>NaN</td>\n",
       "      <td>NaN</td>\n",
       "      <td>NaN</td>\n",
       "      <td>NaN</td>\n",
       "      <td>NaN</td>\n",
       "      <td>NaN</td>\n",
       "      <td>NaN</td>\n",
       "      <td>NaN</td>\n",
       "    </tr>\n",
       "  </tbody>\n",
       "</table>\n",
       "<p>5 rows × 27 columns</p>\n",
       "</div>"
      ],
      "text/plain": [
       "   ID    comp_name                       website  op_status  \\\n",
       "0   0  Nanotecture  http://www.nanotecture.co.uk     closed   \n",
       "1   1       Sybari         http://www.sybari.com   acquired   \n",
       "2   2   Futurederm     http://www.futurederm.com  operating   \n",
       "3   3      Mercora            http://mercora.com     closed   \n",
       "4   4     Datos IO           http://www.datos.io  operating   \n",
       "\n",
       "                                              domain  founded_on  \\\n",
       "0                                     Nanotechnology         NaN   \n",
       "1                            Email|Security|Software  1995-01-01   \n",
       "2           Beauty|Cosmetics|E-Commerce|Social Media  2009-06-07   \n",
       "3                                        Curated Web         NaN   \n",
       "4  Big Data|Cloud Computing|Databases|Enterprise ...  2014-06-01   \n",
       "\n",
       "  hq_country_code hq_state_code    hq_region         hq_city  ...  \\\n",
       "0             GBR            M4       London     Southampton  ...   \n",
       "1             USA            NY  Long Island  East Northport  ...   \n",
       "2             USA            PA   Pittsburgh      Pittsburgh  ...   \n",
       "3             USA            CA  SF Bay Area       Sunnyvale  ...   \n",
       "4             USA            CA  SF Bay Area        San Jose  ...   \n",
       "\n",
       "  last_funding_utc successful_investment Unnamed: 19 Unnamed: 20 Unnamed: 21  \\\n",
       "0            12907                     0         NaN         NaN         NaN   \n",
       "1            11411                     1         NaN         NaN         NaN   \n",
       "2            16217                     0         NaN         NaN         NaN   \n",
       "3            12784                     0         NaN         NaN         NaN   \n",
       "4            16693                     0         NaN         NaN         NaN   \n",
       "\n",
       "   Unnamed: 22 Unnamed: 23 Unnamed: 24  Unnamed: 25  Unnamed: 26  \n",
       "0          NaN         NaN         NaN          NaN          NaN  \n",
       "1          NaN         NaN         NaN          NaN          NaN  \n",
       "2          NaN         NaN         NaN          NaN          NaN  \n",
       "3          NaN         NaN         NaN          NaN          NaN  \n",
       "4          NaN         NaN         NaN          NaN          NaN  \n",
       "\n",
       "[5 rows x 27 columns]"
      ]
     },
     "execution_count": 3,
     "metadata": {},
     "output_type": "execute_result"
    }
   ],
   "source": [
    "dataset.head()"
   ]
  },
  {
   "cell_type": "code",
   "execution_count": 4,
   "metadata": {},
   "outputs": [
    {
     "data": {
      "text/html": [
       "<div>\n",
       "<style scoped>\n",
       "    .dataframe tbody tr th:only-of-type {\n",
       "        vertical-align: middle;\n",
       "    }\n",
       "\n",
       "    .dataframe tbody tr th {\n",
       "        vertical-align: top;\n",
       "    }\n",
       "\n",
       "    .dataframe thead th {\n",
       "        text-align: right;\n",
       "    }\n",
       "</style>\n",
       "<table border=\"1\" class=\"dataframe\">\n",
       "  <thead>\n",
       "    <tr style=\"text-align: right;\">\n",
       "      <th></th>\n",
       "      <th>ID</th>\n",
       "      <th>comp_name</th>\n",
       "      <th>website</th>\n",
       "      <th>op_status</th>\n",
       "      <th>domain</th>\n",
       "      <th>founded_on</th>\n",
       "      <th>hq_country_code</th>\n",
       "      <th>hq_state_code</th>\n",
       "      <th>hq_region</th>\n",
       "      <th>hq_city</th>\n",
       "      <th>total_funding_usd</th>\n",
       "      <th>funding_rounds</th>\n",
       "      <th>first_funding_date</th>\n",
       "      <th>last_funding_date</th>\n",
       "      <th>num_investors</th>\n",
       "      <th>funding_duration</th>\n",
       "      <th>first_funding_utc</th>\n",
       "      <th>last_funding_utc</th>\n",
       "      <th>Unnamed: 18</th>\n",
       "    </tr>\n",
       "  </thead>\n",
       "  <tbody>\n",
       "    <tr>\n",
       "      <td>0</td>\n",
       "      <td>0</td>\n",
       "      <td>MDLIVE</td>\n",
       "      <td>http://mdlive.com</td>\n",
       "      <td>operating</td>\n",
       "      <td>Health Care</td>\n",
       "      <td>2009-01-01</td>\n",
       "      <td>USA</td>\n",
       "      <td>FL</td>\n",
       "      <td>Ft. Lauderdale</td>\n",
       "      <td>Fort Lauderdale</td>\n",
       "      <td>73600000.0</td>\n",
       "      <td>2</td>\n",
       "      <td>2014-01-22</td>\n",
       "      <td>2015-06-24</td>\n",
       "      <td>5</td>\n",
       "      <td>518</td>\n",
       "      <td>16092</td>\n",
       "      <td>16610</td>\n",
       "      <td>NaN</td>\n",
       "    </tr>\n",
       "    <tr>\n",
       "      <td>1</td>\n",
       "      <td>1</td>\n",
       "      <td>APX Labs</td>\n",
       "      <td>http://apx-labs.com</td>\n",
       "      <td>operating</td>\n",
       "      <td>Software</td>\n",
       "      <td>2010-01-01</td>\n",
       "      <td>USA</td>\n",
       "      <td>VA</td>\n",
       "      <td>Washington, D.C.</td>\n",
       "      <td>Herndon</td>\n",
       "      <td>28612936.0</td>\n",
       "      <td>3</td>\n",
       "      <td>2014-04-02</td>\n",
       "      <td>2015-11-18</td>\n",
       "      <td>7</td>\n",
       "      <td>595</td>\n",
       "      <td>16162</td>\n",
       "      <td>16757</td>\n",
       "      <td>NaN</td>\n",
       "    </tr>\n",
       "    <tr>\n",
       "      <td>2</td>\n",
       "      <td>2</td>\n",
       "      <td>9Cookies</td>\n",
       "      <td>http://www.9cookies.com/</td>\n",
       "      <td>acquired</td>\n",
       "      <td>Point of Sale|Restaurants</td>\n",
       "      <td>2012-01-01</td>\n",
       "      <td>DEU</td>\n",
       "      <td>16</td>\n",
       "      <td>Berlin</td>\n",
       "      <td>Berlin</td>\n",
       "      <td>NaN</td>\n",
       "      <td>1</td>\n",
       "      <td>2013-04-18</td>\n",
       "      <td>2013-04-18</td>\n",
       "      <td>1</td>\n",
       "      <td>0</td>\n",
       "      <td>15813</td>\n",
       "      <td>15813</td>\n",
       "      <td>NaN</td>\n",
       "    </tr>\n",
       "    <tr>\n",
       "      <td>3</td>\n",
       "      <td>3</td>\n",
       "      <td>Confluence Solar</td>\n",
       "      <td>http://www.confluencesolar.com</td>\n",
       "      <td>acquired</td>\n",
       "      <td>Clean Technology</td>\n",
       "      <td>NaN</td>\n",
       "      <td>USA</td>\n",
       "      <td>MO</td>\n",
       "      <td>St. Louis</td>\n",
       "      <td>Hazelwood</td>\n",
       "      <td>12700000.0</td>\n",
       "      <td>1</td>\n",
       "      <td>2008-09-24</td>\n",
       "      <td>2008-09-24</td>\n",
       "      <td>3</td>\n",
       "      <td>0</td>\n",
       "      <td>14146</td>\n",
       "      <td>14146</td>\n",
       "      <td>NaN</td>\n",
       "    </tr>\n",
       "    <tr>\n",
       "      <td>4</td>\n",
       "      <td>4</td>\n",
       "      <td>Dazo</td>\n",
       "      <td>http://dazo.in</td>\n",
       "      <td>operating</td>\n",
       "      <td>Mobile</td>\n",
       "      <td>2014-01-01</td>\n",
       "      <td>IND</td>\n",
       "      <td>19</td>\n",
       "      <td>Bangalore</td>\n",
       "      <td>Bangalore</td>\n",
       "      <td>NaN</td>\n",
       "      <td>1</td>\n",
       "      <td>2015-04-01</td>\n",
       "      <td>2015-04-01</td>\n",
       "      <td>7</td>\n",
       "      <td>0</td>\n",
       "      <td>16526</td>\n",
       "      <td>16526</td>\n",
       "      <td>NaN</td>\n",
       "    </tr>\n",
       "  </tbody>\n",
       "</table>\n",
       "</div>"
      ],
      "text/plain": [
       "   ID         comp_name                         website  op_status  \\\n",
       "0   0            MDLIVE               http://mdlive.com  operating   \n",
       "1   1          APX Labs             http://apx-labs.com  operating   \n",
       "2   2          9Cookies        http://www.9cookies.com/   acquired   \n",
       "3   3  Confluence Solar  http://www.confluencesolar.com   acquired   \n",
       "4   4              Dazo                  http://dazo.in  operating   \n",
       "\n",
       "                      domain  founded_on hq_country_code hq_state_code  \\\n",
       "0                Health Care  2009-01-01             USA            FL   \n",
       "1                   Software  2010-01-01             USA            VA   \n",
       "2  Point of Sale|Restaurants  2012-01-01             DEU            16   \n",
       "3           Clean Technology         NaN             USA            MO   \n",
       "4                     Mobile  2014-01-01             IND            19   \n",
       "\n",
       "          hq_region          hq_city  total_funding_usd  funding_rounds  \\\n",
       "0    Ft. Lauderdale  Fort Lauderdale         73600000.0               2   \n",
       "1  Washington, D.C.          Herndon         28612936.0               3   \n",
       "2            Berlin           Berlin                NaN               1   \n",
       "3         St. Louis        Hazelwood         12700000.0               1   \n",
       "4         Bangalore        Bangalore                NaN               1   \n",
       "\n",
       "  first_funding_date last_funding_date num_investors  funding_duration  \\\n",
       "0         2014-01-22        2015-06-24             5               518   \n",
       "1         2014-04-02        2015-11-18             7               595   \n",
       "2         2013-04-18        2013-04-18             1                 0   \n",
       "3         2008-09-24        2008-09-24             3                 0   \n",
       "4         2015-04-01        2015-04-01             7                 0   \n",
       "\n",
       "   first_funding_utc  last_funding_utc  Unnamed: 18  \n",
       "0              16092             16610          NaN  \n",
       "1              16162             16757          NaN  \n",
       "2              15813             15813          NaN  \n",
       "3              14146             14146          NaN  \n",
       "4              16526             16526          NaN  "
      ]
     },
     "execution_count": 4,
     "metadata": {},
     "output_type": "execute_result"
    }
   ],
   "source": [
    "dtest.head()"
   ]
  },
  {
   "cell_type": "markdown",
   "metadata": {},
   "source": [
    "## Cleaning of Datasets"
   ]
  },
  {
   "cell_type": "code",
   "execution_count": 5,
   "metadata": {},
   "outputs": [],
   "source": [
    "#Droping unnecessary columns in train dataset\n",
    "dataset = dataset.iloc[:,:-8]\n",
    "dataset = dataset[['op_status','domain','total_funding_usd','funding_rounds','num_investors','funding_duration','successful_investment']]"
   ]
  },
  {
   "cell_type": "code",
   "execution_count": 6,
   "metadata": {},
   "outputs": [],
   "source": [
    "#Droping unnecessary columns in test dataset\n",
    "dtest = dtest.iloc[:,:-1]\n",
    "dtest = dtest[['op_status','domain','total_funding_usd','funding_rounds','num_investors','funding_duration']]"
   ]
  },
  {
   "cell_type": "code",
   "execution_count": 7,
   "metadata": {},
   "outputs": [
    {
     "data": {
      "text/plain": [
       "op_status                False\n",
       "domain                    True\n",
       "total_funding_usd         True\n",
       "funding_rounds            True\n",
       "num_investors            False\n",
       "funding_duration         False\n",
       "successful_investment    False\n",
       "dtype: bool"
      ]
     },
     "execution_count": 7,
     "metadata": {},
     "output_type": "execute_result"
    }
   ],
   "source": [
    "#Checking null values in train dataset\n",
    "dataset.isnull().any()"
   ]
  },
  {
   "cell_type": "code",
   "execution_count": 8,
   "metadata": {},
   "outputs": [
    {
     "data": {
      "text/plain": [
       "op_status            False\n",
       "domain                True\n",
       "total_funding_usd     True\n",
       "funding_rounds       False\n",
       "num_investors        False\n",
       "funding_duration     False\n",
       "dtype: bool"
      ]
     },
     "execution_count": 8,
     "metadata": {},
     "output_type": "execute_result"
    }
   ],
   "source": [
    "#Checking null values in test dataset\n",
    "dtest.isnull().any()"
   ]
  },
  {
   "cell_type": "code",
   "execution_count": 9,
   "metadata": {},
   "outputs": [
    {
     "name": "stdout",
     "output_type": "stream",
     "text": [
      "7652\n",
      "17070\n",
      "31258\n"
     ]
    }
   ],
   "source": [
    "#Removal of unwanted rows from op_status from train dataset\n",
    "for key,value in dataset['op_status'].iteritems():\n",
    "    if (value == 'http://centers.fortodo.com') or (value.strip() == 'http//www.dreamlines.com.br') or (value == 'http://www.fortodo.com'):\n",
    "        print(key)\n",
    "        dataset = dataset.drop(key,axis = 0)"
   ]
  },
  {
   "cell_type": "code",
   "execution_count": 10,
   "metadata": {},
   "outputs": [
    {
     "name": "stdout",
     "output_type": "stream",
     "text": [
      "1\n"
     ]
    }
   ],
   "source": [
    "#Changing value of rows from num_investors from test dataset\n",
    "for key,value in dtest['num_investors'].iteritems():\n",
    "    if (value == '2013-11-01'):\n",
    "        dtest['num_investors'][2380] = 1\n",
    "        \n",
    "print(dtest['num_investors'][2380])"
   ]
  },
  {
   "cell_type": "code",
   "execution_count": 11,
   "metadata": {},
   "outputs": [],
   "source": [
    "#Converting string to int in total_funding_usd column\n",
    "dataset['total_funding_usd']=pd.to_numeric(dataset['total_funding_usd'])\n",
    "dtest['total_funding_usd']=pd.to_numeric(dtest['total_funding_usd'])"
   ]
  },
  {
   "cell_type": "code",
   "execution_count": 12,
   "metadata": {},
   "outputs": [],
   "source": [
    "#Filling null values with mean\n",
    "dataset.fillna(dataset.mean(),inplace=True)\n",
    "dtest.fillna(dataset.mean(),inplace=True)"
   ]
  },
  {
   "cell_type": "code",
   "execution_count": 13,
   "metadata": {},
   "outputs": [],
   "source": [
    "#Filling null values with preceding values in domain column\n",
    "dataset.fillna(method=\"ffill\",inplace=True)\n",
    "dtest.fillna(method=\"ffill\",inplace=True)"
   ]
  },
  {
   "cell_type": "code",
   "execution_count": 14,
   "metadata": {},
   "outputs": [
    {
     "data": {
      "text/plain": [
       "op_status                False\n",
       "domain                   False\n",
       "total_funding_usd        False\n",
       "funding_rounds           False\n",
       "num_investors            False\n",
       "funding_duration         False\n",
       "successful_investment    False\n",
       "dtype: bool"
      ]
     },
     "execution_count": 14,
     "metadata": {},
     "output_type": "execute_result"
    }
   ],
   "source": [
    "#Checking Null values again in train dataset\n",
    "dataset.isnull().any()"
   ]
  },
  {
   "cell_type": "code",
   "execution_count": 15,
   "metadata": {},
   "outputs": [
    {
     "data": {
      "text/plain": [
       "op_status            False\n",
       "domain               False\n",
       "total_funding_usd    False\n",
       "funding_rounds       False\n",
       "num_investors        False\n",
       "funding_duration     False\n",
       "dtype: bool"
      ]
     },
     "execution_count": 15,
     "metadata": {},
     "output_type": "execute_result"
    }
   ],
   "source": [
    "#Checking Null values again in test dataset\n",
    "dtest.isnull().any()"
   ]
  },
  {
   "cell_type": "markdown",
   "metadata": {},
   "source": [
    "## Handling of non-numeric dataset"
   ]
  },
  {
   "cell_type": "code",
   "execution_count": 16,
   "metadata": {},
   "outputs": [],
   "source": [
    "dataset['domain']=label_encoder.fit_transform(dataset['domain'])\n",
    "dtest['domain']=label_encoder.fit_transform(dtest['domain'])"
   ]
  },
  {
   "cell_type": "code",
   "execution_count": 17,
   "metadata": {},
   "outputs": [],
   "source": [
    "dataset['op_status']=label_encoder.fit_transform(dataset['op_status'])\n",
    "dtest['op_status']=label_encoder.fit_transform(dtest['op_status'])"
   ]
  },
  {
   "cell_type": "markdown",
   "metadata": {},
   "source": [
    "## Splitting of dataset into test and train"
   ]
  },
  {
   "cell_type": "code",
   "execution_count": 18,
   "metadata": {},
   "outputs": [],
   "source": [
    "#Splitting of training dataset to x and y\n",
    "x_train = dataset.iloc[:,0:6]\n",
    "y_train = dataset.iloc[:,6]\n",
    "x_test=dtest.iloc[:,0:6]"
   ]
  },
  {
   "cell_type": "code",
   "execution_count": 19,
   "metadata": {},
   "outputs": [
    {
     "name": "stdout",
     "output_type": "stream",
     "text": [
      "(40210, 6) (40210,)\n"
     ]
    }
   ],
   "source": [
    "print(x_train.shape,y_train.shape)"
   ]
  },
  {
   "cell_type": "code",
   "execution_count": 20,
   "metadata": {},
   "outputs": [
    {
     "name": "stdout",
     "output_type": "stream",
     "text": [
      "0        0\n",
      "1        1\n",
      "2        0\n",
      "3        0\n",
      "4        0\n",
      "        ..\n",
      "40208    0\n",
      "40209    0\n",
      "40210    0\n",
      "40211    0\n",
      "40212    0\n",
      "Name: successful_investment, Length: 40210, dtype: int64\n"
     ]
    }
   ],
   "source": [
    "print(y_train)"
   ]
  },
  {
   "cell_type": "code",
   "execution_count": 21,
   "metadata": {},
   "outputs": [],
   "source": [
    "#Splitting training dataset into train and test\n",
    "X_train,X_test,Y_train,Y_test = train_test_split(x_train,y_train,test_size=0.3,random_state=0)"
   ]
  },
  {
   "cell_type": "markdown",
   "metadata": {},
   "source": [
    "## Applying Gradient Boosting Classifier"
   ]
  },
  {
   "cell_type": "code",
   "execution_count": 22,
   "metadata": {},
   "outputs": [
    {
     "data": {
      "text/plain": [
       "GradientBoostingClassifier(criterion='friedman_mse', init=None,\n",
       "                           learning_rate=0.1, loss='deviance', max_depth=3,\n",
       "                           max_features=None, max_leaf_nodes=None,\n",
       "                           min_impurity_decrease=0.0, min_impurity_split=None,\n",
       "                           min_samples_leaf=1, min_samples_split=2,\n",
       "                           min_weight_fraction_leaf=0.0, n_estimators=80,\n",
       "                           n_iter_no_change=None, presort='auto',\n",
       "                           random_state=None, subsample=1.0, tol=0.0001,\n",
       "                           validation_fraction=0.1, verbose=0,\n",
       "                           warm_start=False)"
      ]
     },
     "execution_count": 22,
     "metadata": {},
     "output_type": "execute_result"
    }
   ],
   "source": [
    "model = GradientBoostingClassifier(n_estimators=80)\n",
    "model.fit(X_train,Y_train)"
   ]
  },
  {
   "cell_type": "code",
   "execution_count": 23,
   "metadata": {},
   "outputs": [],
   "source": [
    "Y_pred = model.predict(X_test)\n",
    "result = model.predict(x_test)"
   ]
  },
  {
   "cell_type": "code",
   "execution_count": 24,
   "metadata": {},
   "outputs": [
    {
     "name": "stdout",
     "output_type": "stream",
     "text": [
      "Accuracy: 1.0\n"
     ]
    }
   ],
   "source": [
    "#Checking accuracy of train dataset\n",
    "print(\"Accuracy:\",metrics.accuracy_score(Y_test,Y_pred))"
   ]
  },
  {
   "cell_type": "code",
   "execution_count": 25,
   "metadata": {},
   "outputs": [
    {
     "name": "stdout",
     "output_type": "stream",
     "text": [
      "      0\n",
      "0     0\n",
      "1     0\n",
      "2     1\n",
      "3     1\n",
      "4     0\n",
      "...  ..\n",
      "4464  0\n",
      "4465  0\n",
      "4466  0\n",
      "4467  0\n",
      "4468  0\n",
      "\n",
      "[4469 rows x 1 columns]\n"
     ]
    }
   ],
   "source": [
    "#Checking test dataset predictions\n",
    "result=pd.DataFrame(result)\n",
    "print(result)"
   ]
  },
  {
   "cell_type": "code",
   "execution_count": 26,
   "metadata": {},
   "outputs": [],
   "source": [
    "#Exporting to csv file\n",
    "export_csv = result.to_csv ('./result.csv', index = True, header=True)"
   ]
  },
  {
   "cell_type": "code",
   "execution_count": null,
   "metadata": {},
   "outputs": [],
   "source": []
  }
 ],
 "metadata": {
  "kernelspec": {
   "display_name": "Python 3",
   "language": "python",
   "name": "python3"
  },
  "language_info": {
   "codemirror_mode": {
    "name": "ipython",
    "version": 3
   },
   "file_extension": ".py",
   "mimetype": "text/x-python",
   "name": "python",
   "nbconvert_exporter": "python",
   "pygments_lexer": "ipython3",
   "version": "3.7.3"
  }
 },
 "nbformat": 4,
 "nbformat_minor": 2
}
